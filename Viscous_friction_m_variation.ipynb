{
 "cells": [
  {
   "cell_type": "code",
   "execution_count": 1,
   "metadata": {
    "collapsed": true
   },
   "outputs": [],
   "source": [
    "import math\n",
    "import matplotlib.pyplot as plt\n",
    "import numpy as np\n",
    "\n",
    "%matplotlib inline"
   ]
  },
  {
   "cell_type": "code",
   "execution_count": 2,
   "metadata": {
    "collapsed": true
   },
   "outputs": [],
   "source": [
    "def C(eta0, sigma):\n",
    "    coef = 6*math.pi*eta0*sigma\n",
    "    return coef"
   ]
  },
  {
   "cell_type": "code",
   "execution_count": 3,
   "metadata": {
    "collapsed": true
   },
   "outputs": [],
   "source": [
    "def  f_t(C, eta0, N, s):\n",
    "    f = 1/( (1/(N*C)) + ( s/(6*math.pi*(N**2)*eta0) ) )\n",
    "    return f"
   ]
  },
  {
   "cell_type": "code",
   "execution_count": 4,
   "metadata": {
    "collapsed": true
   },
   "outputs": [],
   "source": [
    "def average_inverse_sum( position, N):\n",
    "    i = 0\n",
    "    j = 0\n",
    "    s = 0\n",
    "    for i in range(N):\n",
    "        for j in range(N):\n",
    "            if ( i == j ):\n",
    "                s += 0\n",
    "            else:\n",
    "                r = r_ij(i, j, position)\n",
    "                s += 1/r\n",
    "    #s = s/N\n",
    "    return s"
   ]
  },
  {
   "cell_type": "code",
   "execution_count": 5,
   "metadata": {
    "collapsed": true
   },
   "outputs": [],
   "source": [
    "def positions(Nx, Ny, sigma):\n",
    "    position = {}\n",
    "    i = 0\n",
    "    j = 0\n",
    "    m = 0\n",
    "    for j in range(Ny):\n",
    "        for i in range(Nx):\n",
    "            x = sigma + 2 * i  * sigma\n",
    "            y = sigma + 2 * j * sigma\n",
    "            position.update({m:[x,y]})\n",
    "            m += 1\n",
    "    return position"
   ]
  },
  {
   "cell_type": "code",
   "execution_count": 6,
   "metadata": {
    "collapsed": true
   },
   "outputs": [],
   "source": [
    "def r_ij(i, j, position):\n",
    "    distance = math.sqrt( ((position[i][0]-position[j][0])**2) + ((position[i][1]-position[j][1])**2) )\n",
    "    return distance"
   ]
  },
  {
   "cell_type": "code",
   "execution_count": 7,
   "metadata": {
    "collapsed": true
   },
   "outputs": [],
   "source": [
    "\n",
    "m = 30\n",
    "eta0 = 3.12e-5\n",
    "sigma = 5e-9\n",
    "sigmax = 5e-9\n",
    "thc = 10e-9\n",
    "width = 140e-9\n",
    "s_array = []\n",
    "sigma_array = []\n",
    "N_array = []\n",
    "f_array = []"
   ]
  },
  {
   "cell_type": "code",
   "execution_count": 8,
   "metadata": {
    "collapsed": true
   },
   "outputs": [],
   "source": [
    "for i in np.arange( 0, m):\n",
    "    sigma_array.append(sigmax)\n",
    "    Nx = int(width/(2*sigmax))\n",
    "    Ny = int(thc/(2*sigmax))\n",
    "    N = Nx * Ny\n",
    "    N_array.append(N)\n",
    "    const = C(eta0, sigmax)\n",
    "    coord = positions(Nx, Ny, sigmax)\n",
    "    s = average_inverse_sum(coord, N)\n",
    "    s_array.append(s)\n",
    "    friction = f_t(const, eta0, N, s)\n",
    "    f_array.append(friction)\n",
    "    sigmax = sigma/(i+2)"
   ]
  },
  {
   "cell_type": "code",
   "execution_count": 11,
   "metadata": {},
   "outputs": [
    {
     "data": {
      "image/png": "[encoded data removed]",
      "text/plain": [
       "<matplotlib.figure.Figure at 0x8765a58>"
      ]
     },
     "metadata": {},
     "output_type": "display_data"
    },
    {
     "name": "stdout",
     "output_type": "stream",
     "text": [
      "1.07622276841e-11\n"
     ]
    }
   ],
   "source": [
    "y = 1.3e-11\n",
    "fig1 = plt.figure(figsize=(12, 9))\n",
    "ax1 = fig1.add_subplot(111)\n",
    "ax1.set_xlabel('number of beads', fontsize = '26')\n",
    "ax1.set_ylabel('$\\zeta_{t}$', fontsize = '26')\n",
    "for i in np.arange( 0, m ):\n",
    "    ax1.scatter( N_array[i], f_array[i], color = 'r' )\n",
    "    ax1.set_ylim( 1e-11 , y)\n",
    "plt.show()\n",
    "print (f_array[m-1])"
   ]
  }
 ],
 "metadata": {
  "kernelspec": {
   "display_name": "Python 2",
   "language": "python",
   "name": "python2"
  },
  "language_info": {
   "codemirror_mode": {
    "name": "ipython",
    "version": 2
   },
   "file_extension": ".py",
   "mimetype": "text/x-python",
   "name": "python",
   "nbconvert_exporter": "python",
   "pygments_lexer": "ipython2",
   "version": "2.7.13"
  }
 },
 "nbformat": 4,
 "nbformat_minor": 2
}
