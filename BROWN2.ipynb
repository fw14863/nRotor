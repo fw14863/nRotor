{
 "cells": [
  {
   "cell_type": "code",
   "execution_count": 93,
   "metadata": {
    "collapsed": true
   },
   "outputs": [],
   "source": [
    "import numpy as np\n",
    "import math\n",
    "import matplotlib.pyplot as plt\n",
    "from scipy.optimize import curve_fit\n",
    "from scipy.integrate import odeint\n",
    "from scipy.stats import norm\n",
    "from random import *\n",
    "from matplotlib.pylab import *\n",
    "%matplotlib inline"
   ]
  },
  {
   "cell_type": "code",
   "execution_count": 94,
   "metadata": {
    "collapsed": true
   },
   "outputs": [],
   "source": [
    "\"\"\"Constants\"\"\"\n",
    "eps0 = 8.854e-12 #[F/m]\n",
    "e = 1.60217662e-19 #elementary charge [C]\n",
    "h = 6.62607004e-34 #Planck's constant [Js]\n",
    "m_e = 9.10938356e-31 #electron mass [kg]"
   ]
  },
  {
   "cell_type": "code",
   "execution_count": 95,
   "metadata": {
    "collapsed": true
   },
   "outputs": [],
   "source": [
    "\"\"\"Material dependant constants:\"\"\"\n",
    "'''Fluid'''\n",
    "fluid_density = 0.164 #helium\n",
    "particle_mass = 6.6464764e-27 #helium [kg]\n",
    "eta = 3.12e-5 #shear viscosity = kinematic viscosity * denisty of fluid\n",
    "beta = 0 #bulk viscoisty\n",
    "kinematic_viscosity = 3.12e-5/fluid_density\n",
    "eps_rel = 1 #relative permittivity\n",
    "eps = eps0 * eps_rel\n",
    "k = 1/(4*math.pi*eps)\n",
    "\n",
    "'''QDs'''\n",
    "#(InAs/GaAs QDs)\n",
    "Rt = (10*h)/(e**2) #tunneling resistance (made up value)\n",
    "m_eeff = 0.067 * m_e #electron effective mass [kg]\n",
    "m_heff = 0.34 * m_e #hole effective mass [kg]\n",
    "E_g = 0.36 * 1.60217662e-19 #band gap of QD (InAs bulk) [J]\n",
    "\n",
    "\n",
    "'''Inner section'''\n",
    "cap_d = 0.394    #capacitance density in [F/m^2] of inner segment capacitors\n",
    "rho = 3e3 # desity of inner disc material (approxmiate) [kg/m^3]\n",
    "R_c = 1 #capacitor circuit resistance"
   ]
  },
  {
   "cell_type": "code",
   "execution_count": 96,
   "metadata": {
    "collapsed": true
   },
   "outputs": [],
   "source": [
    "\"\"\"Initial parameter functions\"\"\"\n",
    "def seperation_angle(n):\n",
    "    return ( (2*math.pi)/n )\n",
    "\n",
    "def setup_radius(sep, diam, PHI):\n",
    "    return ( (sep + diam)/(2 * math.sin(PHI/2)) )\n",
    "\n",
    "def cog_length( Rp, PHI):\n",
    "    r = ( Rp*math.sin(PHI) )/(4*math.sin(PHI/2))\n",
    "    return r\n",
    "\n",
    "def width( Rp, PHI):\n",
    "    w = ( Rp*math.sin(PHI) )/2\n",
    "    return w\n",
    "\n",
    "def inertia( rho, thc, Rp):\n",
    "    \"\"\"Calculates inertia of inner rotating disk\"\"\"\n",
    "    I = 0.5 * rho * math.pi * thc * ( Rp ** 4 ) #for disc, needs to be changed for cog shape\n",
    "    return I"
   ]
  },
  {
   "cell_type": "code",
   "execution_count": 97,
   "metadata": {
    "collapsed": true
   },
   "outputs": [],
   "source": [
    "\"\"\"Motor setup functions\"\"\"\n",
    "\n",
    "def permanent_charge_magnitude( r, width, cap_d, cap_vol):\n",
    "    \"\"\"Calculates magnitude of total charge stored in inner segment\"\"\"\n",
    "    segment_area = r * width\n",
    "    capacitance = cap_d * segment_area #capacitance of one segment\n",
    "    stored_charge = capacitance * cap_vol #stored charge in one segment\n",
    "    return stored_charge\n",
    "\n",
    "def permanent_charges( Rp, p , cap_d, cap_vol, width, r):\n",
    "    \"\"\"Initializes permanent charge elements\"\"\"\n",
    "    PCs = {}\n",
    "    for i in range(p):\n",
    "        theta = (2*math.pi/p)*i\n",
    "        xp = Rp*math.cos(theta)\n",
    "        yp = Rp*math.sin(theta)\n",
    "        if i%2 == 0:\n",
    "            p_ch = permanent_charge_magnitude( r, width, cap_d, cap_vol)\n",
    "        else:\n",
    "            p_ch = -permanent_charge_magnitude( r, width, cap_d, cap_vol)\n",
    "        PCs.update({i:[xp,yp,theta, p_ch]}) #dictionary containing all info of permanent charges\n",
    "    return PCs\n",
    "\n",
    "def quantum_dots( n, e, noc):\n",
    "    \"\"\"Initializes quantum dot elements\"\"\"\n",
    "    QDs = {}\n",
    "    for i in range(n):\n",
    "        fi = (2*math.pi/n)*i\n",
    "        x = R*math.cos(fi)\n",
    "        y = R*math.sin(fi)\n",
    "        if i in range(1, n, 4): #will result in +ve torque ==> turning anti-clockwise\n",
    "            q_ch = noc*e\n",
    "        elif i in range(3, n, 4):\n",
    "            q_ch = -noc*e\n",
    "        else:\n",
    "            q_ch = 0\n",
    "        QDs.update({i:[x,y,fi,q_ch]}) #dictionary containing all info on QDs\n",
    "    return QDs"
   ]
  },
  {
   "cell_type": "code",
   "execution_count": 98,
   "metadata": {
    "collapsed": true
   },
   "outputs": [],
   "source": [
    "\"\"\"Initial parameters:\"\"\"\n",
    "'''QDs'''\n",
    "diam = 10e-9 #diameter of QDs [m]\n",
    "sep = 130e-9 #seperation of QDs [m] (corresponds to motor dead zone)\n",
    "n = 24   #number of QDs [no unit]\n",
    "PHI = seperation_angle(n) #angle of seperation between QDs\n",
    "R = setup_radius(sep, diam, PHI)  #radius of QD setup [m] 5.36290830288e-07\n",
    "noc = 6 #number of charge carriers contributing to net charge of QD\n",
    "'''Inner section'''\n",
    "p = int(n/2)   #number of permanent charges (PCs) [no unit]\n",
    "r0 = 110e-9\n",
    "Rp = R - r0   #radius of rotating disc [m]\n",
    "w = width( Rp, PHI )#cog \"tooth\"/capacitor arm width [m]\n",
    "r = cog_length( Rp, PHI)    #length of the cog shaft [m]\n",
    "\n",
    "thc = 30e-9   #approximate thickeness of inner disc [m]\n",
    "cap_vol = 1   #applied voltage to capacitors in inner disck (\"permanent charges\"/charged segments) [V]\n",
    "I = inertia( rho, thc, Rp) #inertia of inner rotating disk\n",
    "\n",
    "'''Medium'''\n",
    "constant =  p * 1.08e-11  #coefficient of drag force function"
   ]
  },
  {
   "cell_type": "code",
   "execution_count": 99,
   "metadata": {
    "collapsed": true
   },
   "outputs": [],
   "source": [
    "'''1D Distribution'''\n",
    "def max_boltz(v, part_m):\n",
    "    prob = np.exp((-part_m*(v**2))/(2*kb*T))*((part_m/(2*np.pi*kb*T))**(1/2))\n",
    "    return prob"
   ]
  },
  {
   "cell_type": "code",
   "execution_count": 100,
   "metadata": {},
   "outputs": [],
   "source": [
    "'''EFFECTS OF BROWNIAN MOTION'''\n",
    "Rc = Rp - r    #radius of the rotor minus shaft\n",
    "T = 300\n",
    "particle_mass = 6.6464764e-27 #helium [kg]\n",
    "kb = 1.38064852e-23\n",
    "\n",
    "def no_gas_particles(p_ch_sep_angle, width, r, dens, part_m):\n",
    "    mass_gas = dens*thc * ((p_ch_sep_angle/2)*((Rp**2)-(Rc**2))-w*r)\n",
    "    no = int((mass_gas/part_m)//1)\n",
    "    return no\n",
    "\n",
    "\n",
    "def velocity(nn):\n",
    "    theta_list = np.arange(0, 2*np.pi, 2*np.pi/nn) #randomise angle in the horizontal plane (0 --> 2pi)\n",
    "    fi_list = np.arange(0, np.pi, np.pi/nn)   #randomize angle in the vertical plane (0 --> pi)\n",
    "    rand1 = randint(0, nn-1)\n",
    "    rand2 = randint(0, nn-1)\n",
    "    v = np.sqrt((8*kb*T)/(np.pi*particle_mass))\n",
    "    velocity = v*np.sin(theta_list[rand1])*np.sin(fi_list[rand2])\n",
    "    return velocity\n",
    "\n",
    "\n",
    "def brownian_force(no_gas_particles, velocity, time_step, part_m):\n",
    "    momenta = []\n",
    "    b_force = 0\n",
    "    for i in range(no_gas_particles):\n",
    "        momenta.append(velocity*part_m)\n",
    "    for item in momenta:\n",
    "        b_force += item*time_step\n",
    "    return b_force"
   ]
  },
  {
   "cell_type": "code",
   "execution_count": 101,
   "metadata": {},
   "outputs": [
    {
     "data": {
      "image/png": "[encoded data removed]",
      "text/plain": [
       "<matplotlib.figure.Figure at 0x26d05278>"
      ]
     },
     "metadata": {},
     "output_type": "display_data"
    }
   ],
   "source": [
    "fig = plt.figure(figsize=(12, 9))\n",
    "ax = fig.add_subplot(111)\n",
    "ax.set_xlabel('velocity (m/s)', fontsize = '28')\n",
    "ax.set_ylabel('probability', fontsize = '28')\n",
    "for v in np.arange(-4000,4000,1):\n",
    "    ax.scatter(v, max_boltz(v, 6.6464764e-27), color ='g')\n",
    "    ax.scatter(v, max_boltz(v, 2.3258671e-26), color ='r')\n",
    "plt.show()"
   ]
  },
  {
   "cell_type": "code",
   "execution_count": 103,
   "metadata": {},
   "outputs": [
    {
     "name": "stdout",
     "output_type": "stream",
     "text": [
      "789.525026796 0.444473561475\n"
     ]
    },
    {
     "data": {
      "image/png": "[encoded data removed]",
      "text/plain": [
       "<matplotlib.figure.Figure at 0x14a51128>"
      ]
     },
     "metadata": {},
     "output_type": "display_data"
    }
   ],
   "source": [
    "vmax = 6000\n",
    "distribution = []\n",
    "for i in range(10000000):\n",
    "    v = vmax * random()\n",
    "    p = random()\n",
    "    pv = max_boltz(v, 6.6464764e-27)\n",
    "    if p < pv:\n",
    "        distribution.append(v)\n",
    "    v = -vmax * random()\n",
    "    p = random()\n",
    "    pv = max_boltz(v, 6.6464764e-27)\n",
    "    if p < pv:\n",
    "        distribution.append(v)\n",
    "        \n",
    "print np.std(distribution), np.mean(distribution)\n",
    "\n",
    "fig = plt.figure(figsize=(12, 9))\n",
    "ax = fig.add_subplot(111)\n",
    "ax.hist(distribution, bins = np.arange(min(distribution), max(distribution)+10, 1))\n",
    "plt.show()"
   ]
  },
  {
   "cell_type": "code",
   "execution_count": 104,
   "metadata": {},
   "outputs": [
    {
     "name": "stdout",
     "output_type": "stream",
     "text": [
      "2050623\n"
     ]
    }
   ],
   "source": [
    "print randint(0, len(distribution))"
   ]
  },
  {
   "cell_type": "code",
   "execution_count": 105,
   "metadata": {},
   "outputs": [],
   "source": [
    "PCs = permanent_charges( Rp, 12 , cap_d, cap_vol, width( Rp, PHI), r)\n",
    "p_ch_sep_angle = PCs[1][2]\n",
    "no =  no_gas_particles(p_ch_sep_angle, width, r, 0.164, 6.6464764e-27)"
   ]
  },
  {
   "cell_type": "code",
   "execution_count": 106,
   "metadata": {},
   "outputs": [],
   "source": [
    "bf = []\n",
    "for i in np.arange(1e5):\n",
    "    x = randint(0, len(distribution))\n",
    "    bf.append(brownian_force(no, distribution[x], 1e-9, 6.6464764e-27))"
   ]
  },
  {
   "cell_type": "code",
   "execution_count": 111,
   "metadata": {
    "scrolled": true
   },
   "outputs": [],
   "source": [
    "bff = []\n",
    "for item in bf:\n",
    "    bff.append(item*1e29)"
   ]
  },
  {
   "cell_type": "code",
   "execution_count": 112,
   "metadata": {
    "scrolled": true
   },
   "outputs": [
    {
     "data": {
      "image/png": "[encoded data removed]",
      "text/plain": [
       "<matplotlib.figure.Figure at 0xee1cb70>"
      ]
     },
     "metadata": {},
     "output_type": "display_data"
    }
   ],
   "source": [
    "fig = plt.figure(figsize=(12, 9))\n",
    "plt.hist(bf, 100)\n",
    "plt.show()"
   ]
  },
  {
   "cell_type": "code",
   "execution_count": 117,
   "metadata": {},
   "outputs": [
    {
     "name": "stdout",
     "output_type": "stream",
     "text": [
      "421.783296255 0.639668483936\n"
     ]
    },
    {
     "data": {
      "image/png": "[encoded data removed]",
      "text/plain": [
       "<matplotlib.figure.Figure at 0x2a823550>"
      ]
     },
     "metadata": {},
     "output_type": "display_data"
    }
   ],
   "source": [
    "vmax = 6000\n",
    "distribution = []\n",
    "for i in range(10000000):\n",
    "    v = vmax * random()\n",
    "    p = random()\n",
    "    pv = max_boltz(v, 2.3258671e-26)\n",
    "    if p < pv:\n",
    "        distribution.append(v)\n",
    "    v = -vmax * random()\n",
    "    p = random()\n",
    "    pv = max_boltz(v, 2.3258671e-26)\n",
    "    if p < pv:\n",
    "        distribution.append(v)\n",
    "        \n",
    "print np.std(distribution), np.mean(distribution)\n",
    "\n",
    "fig = plt.figure(figsize=(12, 9))\n",
    "ax = fig.add_subplot(111)\n",
    "ax.hist(distribution, bins = np.arange(min(distribution), max(distribution)+10, 1))\n",
    "plt.show()"
   ]
  },
  {
   "cell_type": "code",
   "execution_count": 118,
   "metadata": {},
   "outputs": [
    {
     "data": {
      "image/png": "[encoded data removed]",
      "text/plain": [
       "<matplotlib.figure.Figure at 0xf0eec18>"
      ]
     },
     "metadata": {},
     "output_type": "display_data"
    }
   ],
   "source": [
    "PCs = permanent_charges( Rp, 12 , cap_d, cap_vol, width( Rp, PHI), r)\n",
    "p_ch_sep_angle = PCs[1][2]\n",
    "no =  no_gas_particles(p_ch_sep_angle, width, r, 1.225, 2.3258671e-26)\n",
    "\n",
    "bf = []\n",
    "for i in np.arange(1e5):\n",
    "    x = randint(0, len(distribution))\n",
    "    bf.append(brownian_force(no, distribution[x], 1e-9, 6.6464764e-27))\n",
    "    \n",
    "fig = plt.figure(figsize=(12, 9))\n",
    "plt.hist(bf, 100)\n",
    "plt.show()"
   ]
  },
  {
   "cell_type": "code",
   "execution_count": 119,
   "metadata": {},
   "outputs": [
    {
     "name": "stdout",
     "output_type": "stream",
     "text": [
      "37635\n"
     ]
    }
   ],
   "source": [
    "print no"
   ]
  },
  {
   "cell_type": "code",
   "execution_count": 120,
   "metadata": {
    "collapsed": true
   },
   "outputs": [],
   "source": [
    "\"\"\"Active motor functions\"\"\"\n",
    "\n",
    "def tangential_component(k , n, e, R, Rp, gamma, noc, width, r):\n",
    "    \"\"\"Calculates the tangential coulomb force on one inner charge\"\"\"\n",
    "    F_c = 0; #coulomb force\n",
    "    F_t = 0 #tangential component of coulumb force\n",
    "    QDs = quantum_dots(n, e, noc) #calls function to initialize QDs\n",
    "    for i in range(n):\n",
    "        Q = QDs[i] #dictionary section on ith QD\n",
    "        ri = math.sqrt(  ( (Rp-(r/4) )**2) + (R**2) - 2*(Rp-(r/4))*R*math.cos(QDs[i][2]-gamma) ) #distance between QD and permanent charge\n",
    "        d = 2*R*math.sin((QDs[i][2]-gamma)/2)\n",
    "        if ((((r0+(r/4))**2)+(ri**2)-(d**2))/(2*(r0+(r/4))*ri)) > 1 or ((((r0+(r/4))**2)+(ri**2)-(d**2))/(2*(r0+(r/4))*ri)) < -1 : #accounts for computational error\n",
    "            alpha = 0\n",
    "        else:\n",
    "            alpha = math.acos((((r0+(r/4))**2)+(ri**2)-(d**2))/(2*(r0+(r/4))*ri)) #angle to tangential in which force vector acts\n",
    "        if i > n/2:\n",
    "            alpha = -alpha\n",
    "        ex_minus = ri*math.sin(alpha) - (width/2)\n",
    "        ex_plus = ri*math.sin(alpha) + (width/2)\n",
    "        ey_minus = ri*math.cos(alpha)\n",
    "        ey_plus = ri*math.cos(alpha) + (r/2)\n",
    "        sigma = PCs[0][3]/(width*r)\n",
    "        f = force(ex_minus, ex_plus, ey_minus, ey_plus)\n",
    "        F_c = k*sigma*Q[3]*f #coulomb force between permanent charge and QD\n",
    "        F_t += F_c*math.sin(alpha)\n",
    "    return F_t\n",
    "\n",
    "def force( c1, c2, c3, c4):\n",
    "    a1 = (c4 + math.sqrt((c4**2)+(c1**2)))*(c3 + math.sqrt((c3**2)+(c2**2)))\n",
    "    b1 = (c4 + math.sqrt((c4**2)+(c2**2)))*(c3 + math.sqrt((c3**2)+(c1**2)))\n",
    "    a2 = (c2 + math.sqrt((c2**2)+(c3**2)))*(c1 + math.sqrt((c1**2)+(c4**2)))\n",
    "    b2 = (c2 + math.sqrt((c2**2)+(c4**2)))*(c1 + math.sqrt((c1**2)+(c3**2)))\n",
    "    I1 = math.log(a1/b1)\n",
    "    I2 = math.log(a2/b2)\n",
    "    f = math.sqrt( (I1**2) + (I2**2) )\n",
    "    return f\n",
    "\n",
    "def torque (F_t, Rp, p, r):\n",
    "    \"\"\"Computes torque on enitre inner rotor\"\"\"\n",
    "    torque_radius = Rp - r/4\n",
    "    torque = F_t * torque_radius * p\n",
    "    return torque"
   ]
  },
  {
   "cell_type": "code",
   "execution_count": 127,
   "metadata": {},
   "outputs": [
    {
     "name": "stdout",
     "output_type": "stream",
     "text": [
      "0.0785398163397\n",
      "0.261799387799\n"
     ]
    }
   ],
   "source": [
    "print seperation_angle(80)\n",
    "print seperation_angle(24)"
   ]
  },
  {
   "cell_type": "code",
   "execution_count": 129,
   "metadata": {},
   "outputs": [
    {
     "name": "stdout",
     "output_type": "stream",
     "text": [
      "2.66161168963e-10\n",
      "-3.62131167725e-19\n"
     ]
    }
   ],
   "source": [
    "print tangential_component(k , n, e, R, Rp, 0.0785398163396, noc, width( Rp, PHI), r)\n",
    "print tangential_component(k , n, e, R, Rp, 0.261799387798, noc, width( Rp, PHI), r)"
   ]
  },
  {
   "cell_type": "code",
   "execution_count": null,
   "metadata": {
    "collapsed": true
   },
   "outputs": [],
   "source": []
  }
 ],
 "metadata": {
  "kernelspec": {
   "display_name": "Python 2",
   "language": "python",
   "name": "python2"
  },
  "language_info": {
   "codemirror_mode": {
    "name": "ipython",
    "version": 2
   },
   "file_extension": ".py",
   "mimetype": "text/x-python",
   "name": "python",
   "nbconvert_exporter": "python",
   "pygments_lexer": "ipython2",
   "version": "2.7.13"
  }
 },
 "nbformat": 4,
 "nbformat_minor": 2
}
