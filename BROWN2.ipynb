{
 "cells": [
  {
   "cell_type": "code",
   "execution_count": 31,
   "metadata": {
    "collapsed": true
   },
   "outputs": [],
   "source": [
    "import numpy as np\n",
    "import math\n",
    "import matplotlib.pyplot as plt\n",
    "from scipy.optimize import curve_fit\n",
    "from scipy.integrate import odeint\n",
    "from scipy.stats import norm\n",
    "from random import *\n",
    "from matplotlib.pylab import *\n",
    "%matplotlib inline"
   ]
  },
  {
   "cell_type": "code",
   "execution_count": 32,
   "metadata": {
    "collapsed": true
   },
   "outputs": [],
   "source": [
    "\"\"\"Constants\"\"\"\n",
    "eps0 = 8.854e-12 #[F/m]\n",
    "e = 1.60217662e-19 #elementary charge [C]\n",
    "h = 6.62607004e-34 #Planck's constant [Js]\n",
    "m_e = 9.10938356e-31 #electron mass [kg]"
   ]
  },
  {
   "cell_type": "code",
   "execution_count": 33,
   "metadata": {
    "collapsed": true
   },
   "outputs": [],
   "source": [
    "\"\"\"Material dependant constants:\"\"\"\n",
    "'''Fluid'''\n",
    "fluid_density = 0.164 #helium\n",
    "particle_mass = 6.6464764e-27 #helium [kg]\n",
    "eta = 3.12e-5 #shear viscosity = kinematic viscosity * denisty of fluid\n",
    "beta = 0 #bulk viscoisty\n",
    "kinematic_viscosity = 3.12e-5/fluid_density\n",
    "eps_rel = 1 #relative permittivity\n",
    "eps = eps0 * eps_rel\n",
    "k = 1/(4*math.pi*eps)\n",
    "\n",
    "'''QDs'''\n",
    "#(InAs/GaAs QDs)\n",
    "Rt = (10*h)/(e**2) #tunneling resistance (made up value)\n",
    "m_eeff = 0.067 * m_e #electron effective mass [kg]\n",
    "m_heff = 0.34 * m_e #hole effective mass [kg]\n",
    "E_g = 0.36 * 1.60217662e-19 #band gap of QD (InAs bulk) [J]\n",
    "\n",
    "\n",
    "'''Inner section'''\n",
    "cap_d = 0.394    #capacitance density in [F/m^2] of inner segment capacitors\n",
    "rho = 3e3 # desity of inner disc material (approxmiate) [kg/m^3]\n",
    "R_c = 1 #capacitor circuit resistance"
   ]
  },
  {
   "cell_type": "code",
   "execution_count": 34,
   "metadata": {
    "collapsed": true
   },
   "outputs": [],
   "source": [
    "\"\"\"Initial parameter functions\"\"\"\n",
    "def seperation_angle(n):\n",
    "    return ( (2*math.pi)/n )\n",
    "\n",
    "def setup_radius(sep, diam, PHI):\n",
    "    return ( (sep + diam)/(2 * math.sin(PHI/2)) )\n",
    "\n",
    "def cog_length( Rp, PHI):\n",
    "    r = ( Rp*math.sin(PHI) )/(4*math.sin(PHI/2))\n",
    "    return r\n",
    "\n",
    "def width( Rp, PHI):\n",
    "    w = ( Rp*math.sin(PHI) )/2\n",
    "    return w\n",
    "\n",
    "def inertia( rho, thc, Rp):\n",
    "    \"\"\"Calculates inertia of inner rotating disk\"\"\"\n",
    "    I = 0.5 * rho * math.pi * thc * ( Rp ** 4 ) #for disc, needs to be changed for cog shape\n",
    "    return I"
   ]
  },
  {
   "cell_type": "code",
   "execution_count": 35,
   "metadata": {
    "collapsed": true
   },
   "outputs": [],
   "source": [
    "\"\"\"Motor setup functions\"\"\"\n",
    "\n",
    "def permanent_charge_magnitude( r, width, cap_d, cap_vol):\n",
    "    \"\"\"Calculates magnitude of total charge stored in inner segment\"\"\"\n",
    "    segment_area = r * width\n",
    "    capacitance = cap_d * segment_area #capacitance of one segment\n",
    "    stored_charge = capacitance * cap_vol #stored charge in one segment\n",
    "    return stored_charge\n",
    "\n",
    "def permanent_charges( Rp, p , cap_d, cap_vol, width, r):\n",
    "    \"\"\"Initializes permanent charge elements\"\"\"\n",
    "    PCs = {}\n",
    "    for i in range(p):\n",
    "        theta = (2*math.pi/p)*i\n",
    "        xp = Rp*math.cos(theta)\n",
    "        yp = Rp*math.sin(theta)\n",
    "        if i%2 == 0:\n",
    "            p_ch = permanent_charge_magnitude( r, width, cap_d, cap_vol)\n",
    "        else:\n",
    "            p_ch = -permanent_charge_magnitude( r, width, cap_d, cap_vol)\n",
    "        PCs.update({i:[xp,yp,theta, p_ch]}) #dictionary containing all info of permanent charges\n",
    "    return PCs\n",
    "\n",
    "def quantum_dots( n, e, noc):\n",
    "    \"\"\"Initializes quantum dot elements\"\"\"\n",
    "    QDs = {}\n",
    "    for i in range(n):\n",
    "        fi = (2*math.pi/n)*i\n",
    "        x = R*math.cos(fi)\n",
    "        y = R*math.sin(fi)\n",
    "        if i in range(1, n, 4): #will result in +ve torque ==> turning anti-clockwise\n",
    "            q_ch = noc*e\n",
    "        elif i in range(3, n, 4):\n",
    "            q_ch = -noc*e\n",
    "        else:\n",
    "            q_ch = 0\n",
    "        QDs.update({i:[x,y,fi,q_ch]}) #dictionary containing all info on QDs\n",
    "    return QDs"
   ]
  },
  {
   "cell_type": "code",
   "execution_count": 36,
   "metadata": {
    "collapsed": true
   },
   "outputs": [],
   "source": [
    "\"\"\"Initial parameters:\"\"\"\n",
    "'''QDs'''\n",
    "diam = 10e-9 #diameter of QDs [m]\n",
    "sep = 130e-9 #seperation of QDs [m] (corresponds to motor dead zone)\n",
    "n = 24   #number of QDs [no unit]\n",
    "PHI = seperation_angle(n) #angle of seperation between QDs\n",
    "R = setup_radius(sep, diam, PHI)  #radius of QD setup [m] 5.36290830288e-07\n",
    "noc = 6 #number of charge carriers contributing to net charge of QD\n",
    "'''Inner section'''\n",
    "p = int(n/2)   #number of permanent charges (PCs) [no unit]\n",
    "r0 = 110e-9\n",
    "Rp = R - r0   #radius of rotating disc [m]\n",
    "w = width( Rp, PHI )#cog \"tooth\"/capacitor arm width [m]\n",
    "r = cog_length( Rp, PHI)    #length of the cog shaft [m]\n",
    "\n",
    "thc = 30e-9   #approximate thickeness of inner disc [m]\n",
    "cap_vol = 1   #applied voltage to capacitors in inner disck (\"permanent charges\"/charged segments) [V]\n",
    "I = inertia( rho, thc, Rp) #inertia of inner rotating disk\n",
    "\n",
    "'''Medium'''\n",
    "constant =  p * 1.08e-11  #coefficient of drag force function"
   ]
  },
  {
   "cell_type": "code",
   "execution_count": 37,
   "metadata": {
    "collapsed": true
   },
   "outputs": [],
   "source": [
    "'''1D Distribution'''\n",
    "def max_boltz(v, part_m):\n",
    "    prob = np.exp((-part_m*(v**2))/(2*kb*T))*((part_m/(2*np.pi*kb*T))**(1/2))\n",
    "    return prob"
   ]
  },
  {
   "cell_type": "code",
   "execution_count": 38,
   "metadata": {
    "collapsed": true
   },
   "outputs": [],
   "source": [
    "'''EFFECTS OF BROWNIAN MOTION'''\n",
    "Rc = Rp - r    #radius of the rotor minus shaft\n",
    "T = 300\n",
    "particle_mass = 6.6464764e-27 #helium [kg]\n",
    "kb = 1.38064852e-23\n",
    "\n",
    "def no_gas_particles(p_ch_sep_angle, width, r, dens, part_m):\n",
    "    mass_gas = dens*thc * ((p_ch_sep_angle/2)*((Rp**2)-(Rc**2))-w*r)\n",
    "    no = int((mass_gas/part_m)//1)\n",
    "    return no\n",
    "\n",
    "\n",
    "def velocity(nn):\n",
    "    theta_list = np.arange(0, 2*np.pi, 2*np.pi/nn) #randomise angle in the horizontal plane (0 --> 2pi)\n",
    "    fi_list = np.arange(0, np.pi, np.pi/nn)   #randomize angle in the vertical plane (0 --> pi)\n",
    "    rand1 = randint(0, nn-1)\n",
    "    rand2 = randint(0, nn-1)\n",
    "    v = np.sqrt((8*kb*T)/(np.pi*particle_mass))\n",
    "    velocity = v*np.sin(theta_list[rand1])*np.sin(fi_list[rand2])\n",
    "    return velocity\n",
    "\n",
    "\n",
    "def brownian_force(no_gas_particles, velocity, time_step, part_m):\n",
    "    momenta = []\n",
    "    b_force = 0\n",
    "    for i in range(no_gas_particles):\n",
    "        momenta.append(velocity*part_m)\n",
    "    for item in momenta:\n",
    "        b_force += item*time_step\n",
    "    return b_force"
   ]
  },
  {
   "cell_type": "code",
   "execution_count": 39,
   "metadata": {},
   "outputs": [
    {
     "data": {
      "text/plain": [
       "\"fig = plt.figure(figsize=(12, 9))\\nax = fig.add_subplot(111)\\nax.set_xlabel('speed (m/s)', fontsize = '28')\\nax.set_ylabel('probability', fontsize = '28')\\nfor v in np.arange(-4000,4000,1):\\n    ax.scatter(v, max_boltz(v, 6.6464764e-27), color ='g')\\n    ax.scatter(v, max_boltz(v, 2.3258671e-26), color ='r')\\nplt.show()\""
      ]
     },
     "execution_count": 39,
     "metadata": {},
     "output_type": "execute_result"
    }
   ],
   "source": [
    "'''fig = plt.figure(figsize=(12, 9))\n",
    "ax = fig.add_subplot(111)\n",
    "ax.set_xlabel('speed (m/s)', fontsize = '28')\n",
    "ax.set_ylabel('probability', fontsize = '28')\n",
    "for v in np.arange(-4000,4000,1):\n",
    "    ax.scatter(v, max_boltz(v, 6.6464764e-27), color ='g')\n",
    "    ax.scatter(v, max_boltz(v, 2.3258671e-26), color ='r')\n",
    "plt.show()'''"
   ]
  },
  {
   "cell_type": "code",
   "execution_count": 40,
   "metadata": {},
   "outputs": [],
   "source": [
    "vmax = 6000\n",
    "distribution = []\n",
    "for i in range(10000000):\n",
    "    v = vmax * random()\n",
    "    p = random()\n",
    "    pv = max_boltz(v, 2.3258671e-26)\n",
    "    if p < pv:\n",
    "        distribution.append(v)\n",
    "    v = -vmax * random()\n",
    "    p = random()\n",
    "    pv = max_boltz(v, 2.3258671e-26)\n",
    "    if p < pv:\n",
    "        distribution.append(v)"
   ]
  },
  {
   "cell_type": "code",
   "execution_count": 41,
   "metadata": {},
   "outputs": [
    {
     "data": {
      "image/png": "[encoded data removed]",
      "text/plain": [
       "<matplotlib.figure.Figure at 0xf2649e8>"
      ]
     },
     "metadata": {},
     "output_type": "display_data"
    }
   ],
   "source": [
    "fig = plt.figure(figsize=(12, 9))\n",
    "ax = fig.add_subplot(111)\n",
    "ax.hist(distribution, bins = np.arange(min(distribution), max(distribution)+10, 1))\n",
    "ax.set_xlabel('speed (m/s)', fontsize = '25')\n",
    "ax.set_ylabel('frequency', fontsize = '25')\n",
    "for v in np.arange(-2500,2500,1):\n",
    "    ax.scatter(v, 1700* max_boltz(v, 2.3258671e-26), color ='r', linestyle='-')\n",
    "plt.show()"
   ]
  },
  {
   "cell_type": "code",
   "execution_count": 50,
   "metadata": {},
   "outputs": [],
   "source": [
    "'''mu, sigma = 0, np.std(bf)\n",
    "s = np.random.normal(mu, sigma, 1000)'''\n",
    "\n",
    "def norm(x, mu, sigma):\n",
    "    return  1/(sigma * np.sqrt(2 * np.pi)) *np.exp( - (x - mu)**2 / (2 * sigma**2) )"
   ]
  },
  {
   "cell_type": "code",
   "execution_count": 51,
   "metadata": {
    "scrolled": false
   },
   "outputs": [
    {
     "data": {
      "text/plain": [
       "\"fig = plt.figure(figsize=(12, 9))\\nax = fig.add_subplot(111)\\nplt.xlim(-2e-27, 2e-27)\\nstep = (3e-27)/1000\\n\\nfor x in np.arange(-1.57e-27,1.5e-27, step):\\n    ax.scatter(x, norm(x, mu, sigma), color = 'r')\""
      ]
     },
     "execution_count": 51,
     "metadata": {},
     "output_type": "execute_result"
    }
   ],
   "source": [
    "'''fig = plt.figure(figsize=(12, 9))\n",
    "ax = fig.add_subplot(111)\n",
    "plt.xlim(-2e-27, 2e-27)\n",
    "step = (3e-27)/1000\n",
    "\n",
    "for x in np.arange(-1.57e-27,1.5e-27, step):\n",
    "    ax.scatter(x, norm(x, mu, sigma), color = 'r')'''"
   ]
  },
  {
   "cell_type": "code",
   "execution_count": 52,
   "metadata": {
    "collapsed": true
   },
   "outputs": [],
   "source": [
    "fluid_density_list = [0.164, 1.225, 1.784, 0.9002, 1.429, 0.08988, 1.696, 0.657] #Helium, Nitrogen, Argon, Neon, Oxygen, Hydrogen, Fluorine, Methane\n",
    "mass_list = [6.6464764e-27, 2.3258671e-26, 6.6335209e-26, 3.3509177e-26, 2.6566962e-26, 1.6737236e-27, 3.1547588e-26, 2.6569e-26]"
   ]
  },
  {
   "cell_type": "code",
   "execution_count": 53,
   "metadata": {},
   "outputs": [
    {
     "data": {
      "text/plain": [
       "'std_exp = []\\nstd_predict =[]\\nX_list = []\\nfor i in range(len(fluid_density_list)):\\n    PCs = permanent_charges( Rp, 12 , cap_d, cap_vol, width( Rp, PHI), r)\\n    p_ch_sep_angle = PCs[1][2]\\n    no =  no_gas_particles(p_ch_sep_angle, width, r, fluid_density_list[i], mass_list[i])\\n    std_pre = np.sqrt(kb*T/mass_list[i])*(0.5 - 4/(np.pi**2))*no*mass_list[i]*1e-11\\n    \\n    std_predict.append(std_pre)\\n    \\n    bf = []\\n    for j in np.arange(1e5):\\n        x = randint(0, len(distribution))\\n        bf.append(brownian_force(no, distribution[x], 1e-11, mass_list[i]))\\n        \\n    std_exp.append(np.std(bf))\\n    X_list.append(np.std(bf)/std_pre)'"
      ]
     },
     "execution_count": 53,
     "metadata": {},
     "output_type": "execute_result"
    }
   ],
   "source": [
    "'''std_exp = []\n",
    "std_predict =[]\n",
    "X_list = []\n",
    "for i in range(len(fluid_density_list)):\n",
    "    PCs = permanent_charges( Rp, 12 , cap_d, cap_vol, width( Rp, PHI), r)\n",
    "    p_ch_sep_angle = PCs[1][2]\n",
    "    no =  no_gas_particles(p_ch_sep_angle, width, r, fluid_density_list[i], mass_list[i])\n",
    "    std_pre = np.sqrt(kb*T/mass_list[i])*(0.5 - 4/(np.pi**2))*no*mass_list[i]*1e-11\n",
    "    \n",
    "    std_predict.append(std_pre)\n",
    "    \n",
    "    bf = []\n",
    "    for j in np.arange(1e5):\n",
    "        x = randint(0, len(distribution))\n",
    "        bf.append(brownian_force(no, distribution[x], 1e-11, mass_list[i]))\n",
    "        \n",
    "    std_exp.append(np.std(bf))\n",
    "    X_list.append(np.std(bf)/std_pre)'''"
   ]
  },
  {
   "cell_type": "code",
   "execution_count": 54,
   "metadata": {},
   "outputs": [
    {
     "data": {
      "text/plain": [
       "'print X_list\\nprint np.mean(X_list)'"
      ]
     },
     "execution_count": 54,
     "metadata": {},
     "output_type": "execute_result"
    }
   ],
   "source": [
    "'''print X_list\n",
    "print np.mean(X_list)'''"
   ]
  },
  {
   "cell_type": "code",
   "execution_count": 55,
   "metadata": {
    "collapsed": true
   },
   "outputs": [],
   "source": [
    "#std_pre = 10.5*np.sqrt(kb*T/mass_list[i])*(0.5 - 4/(np.pi**2))*no*mass_list[i]*1e-11"
   ]
  },
  {
   "cell_type": "code",
   "execution_count": 56,
   "metadata": {
    "collapsed": true
   },
   "outputs": [],
   "source": [
    "dens_list = [1000, 784.6, 599, 1261, 1839] #water, acetone, butane, carbon disulphide, sulphuric acid\n",
    "mass_list = [2.6569e-26, 9.64441e-26, 9.651052e-26, 1.2643177e-25, 98.079]\n",
    "colour = ['red', 'blue', 'green', 'cyan', 'purple']"
   ]
  },
  {
   "cell_type": "code",
   "execution_count": 60,
   "metadata": {},
   "outputs": [
    {
     "name": "stderr",
     "output_type": "stream",
     "text": [
      "C:\\ProgramData\\Anaconda2\\lib\\site-packages\\ipykernel_launcher.py:5: RuntimeWarning: divide by zero encountered in double_scalars\n",
      "  \"\"\"\n",
      "C:\\ProgramData\\Anaconda2\\lib\\site-packages\\ipykernel_launcher.py:5: RuntimeWarning: invalid value encountered in double_scalars\n",
      "  \"\"\"\n"
     ]
    },
    {
     "data": {
      "image/png": "[encoded data removed]",
      "text/plain": [
       "<matplotlib.figure.Figure at 0x1a4cd080>"
      ]
     },
     "metadata": {},
     "output_type": "display_data"
    }
   ],
   "source": [
    "\n",
    "fig = plt.figure(figsize=(12, 9))\n",
    "ax = fig.add_subplot(111)\n",
    "ax.set_xlabel('Force (N)', fontsize = '26')\n",
    "ax.set_ylabel('Probability density function', fontsize = '26')\n",
    "'''ax2 = fig.add_subplot(111)\n",
    "ax3 = fig.add_subplot(111)\n",
    "ax4 = fig.add_subplot(111)\n",
    "ax5 = fig.add_subplot(111)'''\n",
    "plt.xlim(-2e-26, 2e-26)\n",
    "step = (3e-26)/1000\n",
    "\n",
    "n = 80\n",
    "PHI = seperation_angle(n)\n",
    "R = setup_radius(sep, diam, PHI)\n",
    "r0 = 110e-9\n",
    "Rp = R - r0 \n",
    "w = width( Rp, PHI )\n",
    "r = cog_length( Rp, PHI)\n",
    "for i in range(len(dens_list)):\n",
    "\n",
    "    no = no_gas_particles(PHI, w, r, dens_list[i], mass_list[i])\n",
    "    std_pre = 10.5*np.sqrt(kb*T/mass_list[i])*(0.5 - 4/(np.pi**2))*no*mass_list[i]*1e-11\n",
    "    for x in np.arange(-1.5e-25,1.5e-25, step):\n",
    "        ax.scatter(x, norm(x, 0, std_pre), color = colour[i])\n",
    "        \n",
    "plt.show()"
   ]
  },
  {
   "cell_type": "code",
   "execution_count": null,
   "metadata": {
    "collapsed": true
   },
   "outputs": [],
   "source": [
    "\"\"\"Active motor functions\"\"\"\n",
    "\n",
    "def tangential_component(k , n, e, R, Rp, gamma, noc, width, r):\n",
    "    \"\"\"Calculates the tangential coulomb force on one inner charge\"\"\"\n",
    "    F_c = 0; #coulomb force\n",
    "    F_t = 0 #tangential component of coulumb force\n",
    "    QDs = quantum_dots(n, e, noc) #calls function to initialize QDs\n",
    "    for i in range(n):\n",
    "        Q = QDs[i] #dictionary section on ith QD\n",
    "        ri = math.sqrt(2*R*(R-r0)*(1-math.cos(QDs[i][2]-gamma))+r0**2) #distance between QD and permanent charge edge\n",
    "        ric = math.sqrt(  ( (Rp-(r/4) )**2) + (R**2) - 2*(Rp-(r/4))*R*math.cos(QDs[i][2]-gamma) ) #distance between QD and permanent charge center\n",
    "        d = 2*R*math.sin((QDs[i][2]-gamma)/2)\n",
    "        '''Alpha is alpha at edge of permanent charge'''\n",
    "        if ((((r0+(r/4))**2)+(ri**2)-(d**2))/(2*(r0+(r/4))*ri)) > 1 or ((((r0+(r/4))**2)+(ri**2)-(d**2))/(2*(r0+(r/4))*ri)) < -1 : #accounts for computational error\n",
    "            alpha = 0\n",
    "        else:\n",
    "            alpha = math.acos((((r0+(r/4))**2)+(ri**2)-(d**2))/(2*(r0+(r/4))*ri)) #angle to tangential in which force vector acts\n",
    "        if i > n/2:\n",
    "            alpha = -alpha        \n",
    "        '''Alphac is alpha at center of permanent charge'''\n",
    "        if ((((r0+(r/4))**2)+(ric**2)-(d**2))/(2*(r0+(r/4))*ric)) > 1 or ((((r0+(r/4))**2)+(ric**2)-(d**2))/(2*(r0+(r/4))*ric)) < -1 : #accounts for computational error\n",
    "            alphac = 0\n",
    "        else:\n",
    "            alphac = math.acos((((r0+(r/4))**2)+(ric**2)-(d**2))/(2*(r0+(r/4))*ric)) #angle to tangential in which force vector acts\n",
    "        if i > n/2:\n",
    "            alphac = -alphac\n",
    "        ex_minus = ri*math.sin(alpha) - (width/2)\n",
    "        ex_plus = ri*math.sin(alpha) + (width/2)\n",
    "        ey_minus = ri*math.cos(alpha)\n",
    "        ey_plus = ri*math.cos(alpha) + (r/2)\n",
    "        sigma = PCs[0][3]/(width*r)\n",
    "        f = force(ex_minus, ex_plus, ey_minus, ey_plus)\n",
    "        F_c = k*sigma*Q[3]*f #coulomb force between permanent charge and QD\n",
    "        F_t += F_c*math.sin(alphac)\n",
    "    return F_t\n",
    "\n",
    "def force( c1, c2, c3, c4):\n",
    "    a1 = (c4 + math.sqrt((c4**2)+(c1**2)))*(c3 + math.sqrt((c3**2)+(c2**2)))\n",
    "    b1 = (c4 + math.sqrt((c4**2)+(c2**2)))*(c3 + math.sqrt((c3**2)+(c1**2)))\n",
    "    a2 = (c2 + math.sqrt((c2**2)+(c3**2)))*(c1 + math.sqrt((c1**2)+(c4**2)))\n",
    "    b2 = (c2 + math.sqrt((c2**2)+(c4**2)))*(c1 + math.sqrt((c1**2)+(c3**2)))\n",
    "    I1 = math.log(a1/b1)\n",
    "    I2 = math.log(a2/b2)\n",
    "    f = math.sqrt( (I1**2) + (I2**2) )\n",
    "    return f"
   ]
  },
  {
   "cell_type": "code",
   "execution_count": null,
   "metadata": {},
   "outputs": [],
   "source": [
    "print seperation_angle(80)\n",
    "print seperation_angle(24)"
   ]
  },
  {
   "cell_type": "code",
   "execution_count": null,
   "metadata": {},
   "outputs": [],
   "source": [
    "print tangential_component(k , n, e, R, Rp, 0.0785398163396, noc, width( Rp, PHI), r)\n",
    "print tangential_component(k , n, e, R, Rp, 0.261799387798, noc, width( Rp, PHI), r)"
   ]
  },
  {
   "cell_type": "code",
   "execution_count": null,
   "metadata": {
    "collapsed": true
   },
   "outputs": [],
   "source": []
  }
 ],
 "metadata": {
  "kernelspec": {
   "display_name": "Python 2",
   "language": "python",
   "name": "python2"
  },
  "language_info": {
   "codemirror_mode": {
    "name": "ipython",
    "version": 2
   },
   "file_extension": ".py",
   "mimetype": "text/x-python",
   "name": "python",
   "nbconvert_exporter": "python",
   "pygments_lexer": "ipython2",
   "version": "2.7.13"
  }
 },
 "nbformat": 4,
 "nbformat_minor": 2
}
