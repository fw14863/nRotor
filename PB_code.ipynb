{
 "cells": [
  {
   "cell_type": "code",
   "execution_count": 79,
   "metadata": {
    "collapsed": true
   },
   "outputs": [],
   "source": [
    "import numpy as np\n",
    "import math\n",
    "import matplotlib.pyplot as plt\n",
    "\n",
    "%matplotlib inline"
   ]
  },
  {
   "cell_type": "code",
   "execution_count": 80,
   "metadata": {
    "collapsed": true
   },
   "outputs": [],
   "source": [
    "\"\"\"     ====>     initial parameters     <====     \"\"\"\n",
    "'''QDS'''\n",
    "n = 24   #number of QDs [no unit]\n",
    "R = 5.36290830288e-07   #radius of QD setup [m]\n",
    "diam = 20e-9    #diameter of QD (atm made up)[m]\n",
    "ts = 30e-9 #double quoted 15ns, time spent stopped between steps, time needed to discharge and charge quantum dot [s]\n",
    "'''Permanent Charges'''\n",
    "p = 12   #number of permanent charges (PCs) [no unit]\n",
    "Rp = 5.36290830288e-07 - 110e-9   #radius of rotating disc [m]\n",
    "r = Rp/3    #length of the cog shaft [m]\n",
    "thc = 30e-9   #approximate thickeness of inner disc [m]\n",
    "ro = 3e3 # desity of inner disc material (approxmiate) [kg/m^3]\n",
    "vol = 1   #applied voltage to capacitors in inner disck (\"permanent charges\"/charged segments) [V]\n",
    "cd = 0.394    #capacitance density in [F/m^2] of inner segment capacitors\n",
    "'''Other constants'''\n",
    "eps = 8.854e-12 #currently set to epsilon 0 [F/m]\n",
    "k = 1/(4*math.pi*eps)\n",
    "e = 1.60217662e-19 # [C]\n",
    "r0 = R - Rp   #distance between roatating disc and centre of QD setup above [m]\n",
    "nu = 1.8e-9    #viscosity "
   ]
  },
  {
   "cell_type": "code",
   "execution_count": 81,
   "metadata": {
    "collapsed": true
   },
   "outputs": [],
   "source": [
    "def intertia( ro, thc, Rp):\n",
    "    \"\"\"Calculates inertia of inner rotating disk\"\"\"\n",
    "    I = 0.5 * ro * math.pi * thc * ( Rp ** 4 )\n",
    "    return I"
   ]
  },
  {
   "cell_type": "code",
   "execution_count": 82,
   "metadata": {
    "collapsed": true
   },
   "outputs": [],
   "source": [
    "def permanent_charge_magnitude( Rp, p , cd, vol):\n",
    "    \"\"\"Calculates magnitude of total charge stored in inner segment\"\"\"\n",
    "    segment_area = (3*math.pi*(Rp**2))/(4*p) #see notebook for deriviation\n",
    "    capacitance = cd * segment_area #capacitance of one segment\n",
    "    stored_charge = capacitance * vol #stored charge in one segment\n",
    "    return stored_charge"
   ]
  },
  {
   "cell_type": "code",
   "execution_count": 83,
   "metadata": {
    "collapsed": true
   },
   "outputs": [],
   "source": [
    "def permanent_charges( Rp, p , cd, vol):\n",
    "    PCs = {}\n",
    "    for i in range(p):\n",
    "        theta = (2*math.pi/p)*i\n",
    "        xp = Rp*math.cos(theta)\n",
    "        yp = Rp*math.sin(theta)\n",
    "        if i%2 == 0:\n",
    "            p_ch = permanent_charge_magnitude( Rp, p , cd, vol)\n",
    "        else:\n",
    "            p_ch = -permanent_charge_magnitude( Rp, p , cd, vol)\n",
    "        PCs.update({i:[xp,yp,theta, p_ch]})\n",
    "    return PCs"
   ]
  },
  {
   "cell_type": "code",
   "execution_count": 84,
   "metadata": {
    "collapsed": true
   },
   "outputs": [],
   "source": [
    "def quantum_dots( n, e):\n",
    "    QDs = {}\n",
    "    for i in range(n):\n",
    "        fi = (2*math.pi/n)*i\n",
    "        x = R*math.cos(fi)\n",
    "        y = R*math.sin(fi)\n",
    "        if i in range(1, 24, 4):\n",
    "            q_ch = 2*e\n",
    "        elif i in range(3,24,4):\n",
    "            q_ch = -2*e\n",
    "        else:\n",
    "            q_ch = 0\n",
    "        QDs.update({i:[x,y,fi,q_ch]})\n",
    "    return QDs"
   ]
  },
  {
   "cell_type": "code",
   "execution_count": 85,
   "metadata": {
    "collapsed": true
   },
   "outputs": [],
   "source": [
    "def tangential_component(n, e, R, r0, gamma):\n",
    "    F_c = 0; #To work out force in polar I need to know distance from the PC to each QD\n",
    "    F_t = 0\n",
    "    QDs = quantum_dots(n,e)\n",
    "    for i in range(n):\n",
    "        Q = QDs[i]\n",
    "        ri = math.sqrt(2*R*(R-r0)*(1-math.cos(QDs[i][2]-gamma))+r0**2)\n",
    "        F_c += k*PCs[0][3]*Q[3]/(ri**2)\n",
    "        d = 2*R*math.sin((QDs[i][2]-gamma)/2)\n",
    "        alpha = math.acos(((r0**2)+(ri**2)-(d**2))/(2*r0*ri))\n",
    "        if i > n/2:\n",
    "            alpha = -alpha\n",
    "        F_t += F_c*math.sin(alpha)\n",
    "    return F_t"
   ]
  },
  {
   "cell_type": "code",
   "execution_count": 86,
   "metadata": {
    "collapsed": true
   },
   "outputs": [],
   "source": [
    "def torque (F_t, Rp, p):\n",
    "    torque = F_t * Rp * p\n",
    "    return torque"
   ]
  },
  {
   "cell_type": "code",
   "execution_count": 87,
   "metadata": {
    "collapsed": true
   },
   "outputs": [],
   "source": [
    "def time_step(I, torque, angle_increment):\n",
    "    return math.sqrt((2*angle_increment*I)/torque)"
   ]
  },
  {
   "cell_type": "code",
   "execution_count": 88,
   "metadata": {
    "collapsed": true
   },
   "outputs": [],
   "source": [
    "def angular_velocity(angle_increment, tau):\n",
    "    return angle_increment/tau"
   ]
  },
  {
   "cell_type": "code",
   "execution_count": 89,
   "metadata": {
    "collapsed": true
   },
   "outputs": [],
   "source": [
    "def viscous_force(ang_v, nu, r):\n",
    "    return ang_v*nu*r"
   ]
  },
  {
   "cell_type": "code",
   "execution_count": 90,
   "metadata": {
    "collapsed": true
   },
   "outputs": [],
   "source": [
    "def charging_energy():\n",
    "    C_dot = 2*math.pi*eps*diam\n",
    "    E_c = (4*(e**2))/(2*C_dot)\n",
    "    return E_c"
   ]
  },
  {
   "cell_type": "code",
   "execution_count": 91,
   "metadata": {},
   "outputs": [
    {
     "name": "stdout",
     "output_type": "stream",
     "text": [
      "1.01477542331e-09\n",
      "4.88129517268e-10\n",
      "7.01345470278e-10\n",
      "6.68380075755e-10\n",
      "7.28470331203e-10\n",
      "7.61748605189e-10\n",
      "8.08887976054e-10\n",
      "8.56494798212e-10\n",
      "9.08914509077e-10\n",
      "9.64737462737e-10\n",
      "1.02426007641e-09\n",
      "1.08716614656e-09\n",
      "1.15321442827e-09\n",
      "1.22202895104e-09\n",
      "1.29315144432e-09\n",
      "1.36602224965e-09\n",
      "1.43998410382e-09\n",
      "1.51428397239e-09\n",
      "1.58808031929e-09\n",
      "1.66045456701e-09\n",
      "1.73042744188e-09\n",
      "1.79698003457e-09\n",
      "1.85907913406e-09\n",
      "1.91570591065e-09\n",
      "1.96588657895e-09\n",
      "2.00872328027e-09\n",
      "2.04342316558e-09\n",
      "2.06932359381e-09\n",
      "2.08591152824e-09\n",
      "2.09283562244e-09\n"
     ]
    },
    {
     "data": {
      "image/png": "[encoded data removed]",
      "text/plain": [
       "<matplotlib.figure.Figure at 0x9be6e80>"
      ]
     },
     "metadata": {},
     "output_type": "display_data"
    }
   ],
   "source": [
    "ang_v = []\n",
    "deg15 = math.pi*15/180\n",
    "PCs = permanent_charges( Rp, p , cd, vol)\n",
    "\n",
    "fig = plt.figure(figsize=(12, 9))\n",
    "ax = fig.add_subplot(111)\n",
    "#plt.ylim(0.0001, 0.00017)\n",
    "plt.xlabel('gamma', fontsize = '20')\n",
    "plt.ylabel('angular velocity', fontsize = '20')\n",
    "\n",
    "v_a = 0\n",
    "for gamma in np.arange(0, deg15 , deg15/30):\n",
    "    F_n = viscous_force(v_a, nu, r)\n",
    "    F_t = tangential_component(n, e, R, r0, gamma)\n",
    "    print F_t - F_n\n",
    "    tau = time_step(intertia( ro, thc, Rp), torque (F_t-F_n, Rp, p), deg15/30)\n",
    "    v_a = angular_velocity(deg15/30, tau)\n",
    "    ax.scatter(gamma, v_a, color = 'r')\n",
    "    ang_v.append(v_a)\n",
    "#print ang_v\n",
    "plt.show()"
   ]
  }
 ],
 "metadata": {
  "kernelspec": {
   "display_name": "Python 2",
   "language": "python",
   "name": "python2"
  },
  "language_info": {
   "codemirror_mode": {
    "name": "ipython",
    "version": 2
   },
   "file_extension": ".py",
   "mimetype": "text/x-python",
   "name": "python",
   "nbconvert_exporter": "python",
   "pygments_lexer": "ipython2",
   "version": "2.7.13"
  }
 },
 "nbformat": 4,
 "nbformat_minor": 2
}
