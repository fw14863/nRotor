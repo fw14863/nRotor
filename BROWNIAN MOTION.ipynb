{
 "cells": [
  {
   "cell_type": "code",
   "execution_count": 2,
   "metadata": {
    "collapsed": true
   },
   "outputs": [],
   "source": [
    "import numpy as np\n",
    "import math\n",
    "import matplotlib.pyplot as plt\n",
    "from scipy.optimize import curve_fit\n",
    "from scipy.integrate import odeint\n",
    "from scipy.stats import norm\n",
    "from random import *\n",
    "from matplotlib.pylab import *\n",
    "%matplotlib inline"
   ]
  },
  {
   "cell_type": "code",
   "execution_count": 3,
   "metadata": {
    "collapsed": true
   },
   "outputs": [],
   "source": [
    "\"\"\"Constants\"\"\"\n",
    "eps0 = 8.854e-12 #[F/m]\n",
    "e = 1.60217662e-19 #elementary charge [C]\n",
    "h = 6.62607004e-34 #Planck's constant [Js]\n",
    "m_e = 9.10938356e-31 #electron mass [kg]"
   ]
  },
  {
   "cell_type": "code",
   "execution_count": 4,
   "metadata": {
    "collapsed": true
   },
   "outputs": [],
   "source": [
    "\"\"\"Material dependant constants:\"\"\"\n",
    "'''Fluid'''\n",
    "fluid_density = 0.164 #helium\n",
    "particle_mass = 6.6464764e-27 #helium [kg]\n",
    "eta = 3.12e-5 #shear viscosity = kinematic viscosity * denisty of fluid\n",
    "beta = 0 #bulk viscoisty\n",
    "kinematic_viscosity = 3.12e-5/fluid_density\n",
    "eps_rel = 1 #relative permittivity\n",
    "eps = eps0 * eps_rel\n",
    "k = 1/(4*math.pi*eps)\n",
    "\n",
    "'''QDs'''\n",
    "#(InAs/GaAs QDs)\n",
    "Rt = (10*h)/(e**2) #tunneling resistance (made up value)\n",
    "m_eeff = 0.067 * m_e #electron effective mass [kg]\n",
    "m_heff = 0.34 * m_e #hole effective mass [kg]\n",
    "E_g = 0.36 * 1.60217662e-19 #band gap of QD (InAs bulk) [J]\n",
    "\n",
    "\n",
    "'''Inner section'''\n",
    "cap_d = 0.394    #capacitance density in [F/m^2] of inner segment capacitors\n",
    "rho = 3e3 # desity of inner disc material (approxmiate) [kg/m^3]\n",
    "R_c = 1 #capacitor circuit resistance"
   ]
  },
  {
   "cell_type": "code",
   "execution_count": 5,
   "metadata": {
    "collapsed": true
   },
   "outputs": [],
   "source": [
    "\"\"\"Initial parameter functions\"\"\"\n",
    "def seperation_angle(n):\n",
    "    return ( (2*math.pi)/n )\n",
    "\n",
    "def setup_radius(sep, diam, PHI):\n",
    "    return ( (sep + diam)/(2 * math.sin(PHI/2)) )\n",
    "\n",
    "def cog_length( Rp, PHI):\n",
    "    r = ( Rp*math.sin(PHI) )/(4*math.sin(PHI/2))\n",
    "    return r\n",
    "\n",
    "def width( Rp, PHI):\n",
    "    w = ( Rp*math.sin(PHI) )/2\n",
    "    return w\n",
    "\n",
    "def inertia( rho, thc, Rp):\n",
    "    \"\"\"Calculates inertia of inner rotating disk\"\"\"\n",
    "    I = 0.5 * rho * math.pi * thc * ( Rp ** 4 ) #for disc, needs to be changed for cog shape\n",
    "    return I"
   ]
  },
  {
   "cell_type": "code",
   "execution_count": 6,
   "metadata": {
    "collapsed": true
   },
   "outputs": [],
   "source": [
    "\"\"\"Motor setup functions\"\"\"\n",
    "\n",
    "def permanent_charge_magnitude( r, width, cap_d, cap_vol):\n",
    "    \"\"\"Calculates magnitude of total charge stored in inner segment\"\"\"\n",
    "    segment_area = r * width\n",
    "    capacitance = cap_d * segment_area #capacitance of one segment\n",
    "    stored_charge = capacitance * cap_vol #stored charge in one segment\n",
    "    return stored_charge\n",
    "\n",
    "def permanent_charges( Rp, p , cap_d, cap_vol, width, r):\n",
    "    \"\"\"Initializes permanent charge elements\"\"\"\n",
    "    PCs = {}\n",
    "    for i in range(p):\n",
    "        theta = (2*math.pi/p)*i\n",
    "        xp = Rp*math.cos(theta)\n",
    "        yp = Rp*math.sin(theta)\n",
    "        if i%2 == 0:\n",
    "            p_ch = permanent_charge_magnitude( r, width, cap_d, cap_vol)\n",
    "        else:\n",
    "            p_ch = -permanent_charge_magnitude( r, width, cap_d, cap_vol)\n",
    "        PCs.update({i:[xp,yp,theta, p_ch]}) #dictionary containing all info of permanent charges\n",
    "    return PCs\n",
    "\n",
    "def quantum_dots( n, e, noc):\n",
    "    \"\"\"Initializes quantum dot elements\"\"\"\n",
    "    QDs = {}\n",
    "    for i in range(n):\n",
    "        fi = (2*math.pi/n)*i\n",
    "        x = R*math.cos(fi)\n",
    "        y = R*math.sin(fi)\n",
    "        if i in range(1, n, 4): #will result in +ve torque ==> turning anti-clockwise\n",
    "            q_ch = noc*e\n",
    "        elif i in range(3, n, 4):\n",
    "            q_ch = -noc*e\n",
    "        else:\n",
    "            q_ch = 0\n",
    "        QDs.update({i:[x,y,fi,q_ch]}) #dictionary containing all info on QDs\n",
    "    return QDs"
   ]
  },
  {
   "cell_type": "code",
   "execution_count": 7,
   "metadata": {
    "collapsed": true
   },
   "outputs": [],
   "source": [
    "\"\"\"Active motor functions\"\"\"\n",
    "\n",
    "def tangential_component(k , n, e, R, Rp, gamma, noc, width, r):\n",
    "    \"\"\"Calculates the tangential coulomb force on one inner charge\"\"\"\n",
    "    F_c = 0; #coulomb force\n",
    "    F_t = 0 #tangential component of coulumb force\n",
    "    QDs = quantum_dots(n, e, noc) #calls function to initialize QDs\n",
    "    for i in range(n):\n",
    "        Q = QDs[i] #dictionary section on ith QD\n",
    "        ri = math.sqrt(  ( (Rp-(r/4) )**2) + (R**2) - 2*(Rp-(r/4))*R*math.cos(QDs[i][2]-gamma) ) #distance between QD and permanent charge\n",
    "        d = 2*R*math.sin((QDs[i][2]-gamma)/2)\n",
    "        if ((((r0+(r/4))**2)+(ri**2)-(d**2))/(2*(r0+(r/4))*ri)) > 1 or ((((r0+(r/4))**2)+(ri**2)-(d**2))/(2*(r0+(r/4))*ri)) < -1 : #accounts for computational error\n",
    "            alpha = 0\n",
    "        else:\n",
    "            alpha = math.acos((((r0+(r/4))**2)+(ri**2)-(d**2))/(2*(r0+(r/4))*ri)) #angle to tangential in which force vector acts\n",
    "        if i > n/2:\n",
    "            alpha = -alpha\n",
    "        ex_minus = ri*math.sin(alpha) - (width/2)\n",
    "        ex_plus = ri*math.sin(alpha) + (width/2)\n",
    "        ey_minus = ri*math.cos(alpha)\n",
    "        ey_plus = ri*math.cos(alpha) + (r/2)\n",
    "        sigma = PCs[0][3]/(width*r)\n",
    "        f = force(ex_minus, ex_plus, ey_minus, ey_plus)\n",
    "        F_c = k*sigma*Q[3]*f #coulomb force between permanent charge and QD\n",
    "        F_t += F_c*math.sin(alpha)\n",
    "    return F_t\n",
    "\n",
    "def force( c1, c2, c3, c4):\n",
    "    a1 = (c4 + math.sqrt((c4**2)+(c1**2)))*(c3 + math.sqrt((c3**2)+(c2**2)))\n",
    "    b1 = (c4 + math.sqrt((c4**2)+(c2**2)))*(c3 + math.sqrt((c3**2)+(c1**2)))\n",
    "    a2 = (c2 + math.sqrt((c2**2)+(c3**2)))*(c1 + math.sqrt((c1**2)+(c4**2)))\n",
    "    b2 = (c2 + math.sqrt((c2**2)+(c4**2)))*(c1 + math.sqrt((c1**2)+(c3**2)))\n",
    "    I1 = math.log(a1/b1)\n",
    "    I2 = math.log(a2/b2)\n",
    "    f = math.sqrt( (I1**2) + (I2**2) )\n",
    "    return f\n",
    "\n",
    "def torque (F_t, Rp, p, r):\n",
    "    \"\"\"Computes torque on enitre inner rotor\"\"\"\n",
    "    torque_radius = Rp - r/4\n",
    "    torque = F_t * torque_radius * p\n",
    "    return torque\n",
    "\n",
    "def angular_velocity(angle_increment, v_ang, i, torque, inertia):\n",
    "    \"\"\"Calculates the angular velocity after rotating the angle increment\"\"\"\n",
    "    w_f = 0\n",
    "    w_f = math.sqrt( (v_ang[i])**2 + (2*torque*angle_increment)/inertia )\n",
    "    return w_f\n",
    "\n",
    "def time_step(inertia, torque, v_ang):\n",
    "    \"\"\"Calculates time taken to reach new v_ang\"\"\"\n",
    "    tau = (v_ang[i] - v_ang[i-1])* inertia/torque\n",
    "    return tau\n",
    "\n",
    "def Charging_voltage_QD( n, e, Cdot):\n",
    "    \"\"\"Constant voltage required to maintain QD charge\"\"\"\n",
    "    QDs = quantum_dots(n,e, noc) #calls function to initialize QDs\n",
    "    voltage = ( QDs[0][3]/(2*Cdot) ) #voltage needed to add one electron\n",
    "    return voltage\n",
    "\n",
    "def QD_capacitance( eps, d):\n",
    "    Cdot = 2*math.pi*eps*d\n",
    "    return Cdot\n",
    "\n",
    "def Charging_time( R, C):\n",
    "    \"Computes charging time for dot and capacitor\"\n",
    "    tc = 4 * R * C\n",
    "    return tc\n",
    "\n",
    "def Input_energy (n, e, Cdot, Rt, h, m_eeff, diam, E_g, m_heff, noc, cap_vol, R_c):\n",
    "    \"\"\"Input power for each step\"\"\"\n",
    "    #for capacitor charging\n",
    "    E_cC = (PCs[0][3] * cap_vol)\n",
    "    #for -ve charged dots, energy corresponds to that needed to the required voltage to cause electrons to tunnel into the dot\n",
    "    E_cQD = (Charging_voltage_QD( n, e, Cdot) * noc * e )\n",
    "    #for +ve charged dots, energy corresponds to laser energy plus voltage emergy to make electrons tunnel out of the dot\n",
    "    #laser energy depends on bandgap/energy level seperation\n",
    "    if (noc % 2 == 0):\n",
    "        J = noc/2\n",
    "    else:\n",
    "        J = (noc + 1)/2\n",
    "    \n",
    "    E_l = E_g + ((h**2)*J/(8*m_eeff*(diam**2))) + ((h**2)*J/(8*m_heff*(diam**2)))\n",
    "    #print( E_cQD )\n",
    "    #print( E_cC )\n",
    "    E_intotal = (E_cQD * n) + ( (n/2) * (E_l + E_cC) )\n",
    "    return E_intotal\n",
    "\n",
    "def Output_power(angv, torque):\n",
    "    return angv * torque\n",
    "\n",
    "def Output_energy(angv, I):\n",
    "    E_out = 0.5 * I * (angv**2)\n",
    "    return E_out\n",
    "\n",
    "def efficiency(E_in, E_out):\n",
    "    eff = (E_out/E_in)\n",
    "    return eff"
   ]
  },
  {
   "cell_type": "code",
   "execution_count": 8,
   "metadata": {
    "collapsed": true
   },
   "outputs": [],
   "source": [
    "\"\"\"Mathematical functions\"\"\"\n",
    "\n",
    "def func(x, A, B, C, D, E, F, G, H, J, K, L, M, O, P, S, U):\n",
    "    return A*(x**15) +B*(x**14)+ C* (x**13)+ D*(x**12)+ E*(x**11) + F*(x**10) + G* (x**9) + H * (x**8) + J * (x**7) + K * (x**6) + L * (x**5)+ M * (x**4) + O * (x**3) + P * (x**2) + S * x + U\n",
    "\n",
    "def solvr( Y, t, params):\n",
    "    const, A, B, C, D, E, F, G, H, J, K, L, M, O, P, S, U = params\n",
    "    return [ Y[1], ( A *(Y[0]**15) + B*(Y[0]**14) + C*(Y[0]**13) + D*(Y[0]**12) + E*(Y[0]**11) + F*(Y[0]**10) + G * (Y[0]**9) + H * (Y[0]**8) + J * (Y[0]**7) + K * (Y[0]**6) + L * (Y[0]**5) + M * (Y[0]**4) + O * (Y[0]**3) + P*(Y[0]**2) + S*Y[0]+ U - const * Y[1]) ]"
   ]
  },
  {
   "cell_type": "code",
   "execution_count": 9,
   "metadata": {
    "collapsed": true
   },
   "outputs": [],
   "source": [
    "\"\"\"Initial parameters:\"\"\"\n",
    "'''QDs'''\n",
    "diam = 10e-9 #diameter of QDs [m]\n",
    "sep = 130e-9 #seperation of QDs [m] (corresponds to motor dead zone)\n",
    "n = 24   #number of QDs [no unit]\n",
    "PHI = seperation_angle(n) #angle of seperation between QDs\n",
    "R = setup_radius(sep, diam, PHI)  #radius of QD setup [m] 5.36290830288e-07\n",
    "noc = 6 #number of charge carriers contributing to net charge of QD\n",
    "'''Inner section'''\n",
    "p = int(n/2)   #number of permanent charges (PCs) [no unit]\n",
    "r0 = 110e-9\n",
    "Rp = R - r0   #radius of rotating disc [m]\n",
    "w = width( Rp, PHI )#cog \"tooth\"/capacitor arm width [m]\n",
    "r = cog_length( Rp, PHI)    #length of the cog shaft [m]\n",
    "\n",
    "thc = 30e-9   #approximate thickeness of inner disc [m]\n",
    "cap_vol = 1   #applied voltage to capacitors in inner disck (\"permanent charges\"/charged segments) [V]\n",
    "I = inertia( rho, thc, Rp) #inertia of inner rotating disk\n",
    "\n",
    "'''Medium'''\n",
    "constant =  p * 1.08e-11  #coefficient of drag force function"
   ]
  },
  {
   "cell_type": "code",
   "execution_count": 10,
   "metadata": {
    "collapsed": true
   },
   "outputs": [],
   "source": [
    "'''EFFECTS OF BROWNIAN MOTION'''\n",
    "Rc = Rp - r    #radius of the rotor minus shaft\n",
    "T = 300\n",
    "particle_mass = 6.6464764e-27 #helium [kg]\n",
    "kb = 1.38064852e-23\n",
    "\n",
    "def no_gas_particles(p_ch_sep_angle, width, r):\n",
    "    mass_gas = fluid_density*thc * ((p_ch_sep_angle/2)*((Rp**2)-(Rc**2))-w*r)\n",
    "    no = int((mass_gas/particle_mass)//1)\n",
    "    return no\n",
    "\n",
    "\n",
    "def velocity(nn):\n",
    "    theta_list = np.arange(0, 2*np.pi, 2*np.pi/nn) #randomise angle in the horizontal plane (0 --> 2pi)\n",
    "    fi_list = np.arange(0, np.pi, np.pi/nn)   #randomize angle in the vertical plane (0 --> pi)\n",
    "    rand1 = randint(0, nn-1)\n",
    "    rand2 = randint(0, nn-1)\n",
    "    v = np.sqrt((8*kb*T)/(np.pi*particle_mass))\n",
    "    velocity = v*np.sin(theta_list[rand1])*np.sin(fi_list[rand2])\n",
    "    return velocity\n",
    "\n",
    "\n",
    "def brownian_force(no_gas_particles, velocity, time_step):\n",
    "    momenta = []\n",
    "    b_force = 0\n",
    "    for i in range(no_gas_particles):\n",
    "        momenta.append(velocity*particle_mass)\n",
    "    for item in momenta:\n",
    "        b_force += item*time_step\n",
    "    return b_force"
   ]
  },
  {
   "cell_type": "code",
   "execution_count": 11,
   "metadata": {},
   "outputs": [
    {
     "name": "stdout",
     "output_type": "stream",
     "text": [
      "17631\n",
      "-1065.65404101\n",
      "8.94192787348e-29\n"
     ]
    }
   ],
   "source": [
    "PCs = permanent_charges( Rp, p , cap_d, cap_vol, width( Rp, PHI), r)\n",
    "p_ch_sep_angle = PCs[1][2]\n",
    "no =  no_gas_particles(p_ch_sep_angle, width, r)\n",
    "\n",
    "print no\n",
    "v = velocity(1000)\n",
    "print v\n",
    "bforce = brownian_force(no, velocity(1000), 1e-9)\n",
    "print bforce"
   ]
  },
  {
   "cell_type": "code",
   "execution_count": 12,
   "metadata": {
    "collapsed": true
   },
   "outputs": [],
   "source": [
    "dist =[]\n",
    "for i in range(100000):\n",
    "    dist.append(velocity(10000))"
   ]
  },
  {
   "cell_type": "code",
   "execution_count": 13,
   "metadata": {
    "scrolled": true
   },
   "outputs": [
    {
     "data": {
      "image/png": "[encoded data removed]",
      "text/plain": [
       "<matplotlib.figure.Figure at 0x5bfcc50>"
      ]
     },
     "metadata": {},
     "output_type": "display_data"
    }
   ],
   "source": [
    "fig = plt.figure(figsize=(12, 9))\n",
    "ax = fig.add_subplot(111)\n",
    "ax.hist(dist, bins = np.arange(min(dist), max(dist)+10, 10))\n",
    "ax.set_xlabel('velocity (m/s)', fontsize = '28')\n",
    "ax.set_ylabel('frequency', fontsize = '28')\n",
    "plt.show()"
   ]
  },
  {
   "cell_type": "code",
   "execution_count": 14,
   "metadata": {
    "collapsed": true
   },
   "outputs": [],
   "source": [
    "'''1D Distribution'''\n",
    "def max_boltz(v):\n",
    "    prob = np.exp((-particle_mass*(v**2))/(2*kb*T))*((particle_mass/(2*np.pi*kb*T))**(1/2))\n",
    "    return prob"
   ]
  },
  {
   "cell_type": "code",
   "execution_count": 15,
   "metadata": {},
   "outputs": [
    {
     "data": {
      "image/png": "[encoded data removed]",
      "text/plain": [
       "<matplotlib.figure.Figure at 0x6843860>"
      ]
     },
     "metadata": {},
     "output_type": "display_data"
    }
   ],
   "source": [
    "fig = plt.figure(figsize=(12, 9))\n",
    "ax = fig.add_subplot(111)\n",
    "ax.set_xlabel('velocity (m/s)', fontsize = '28')\n",
    "ax.set_ylabel('probability', fontsize = '28')\n",
    "for v in np.arange(-3000,3000,1):\n",
    "    ax.scatter(v, max_boltz(v), color ='g')\n",
    "plt.show()"
   ]
  },
  {
   "cell_type": "code",
   "execution_count": 28,
   "metadata": {
    "collapsed": true
   },
   "outputs": [],
   "source": [
    "vmax = 20000\n",
    "distribution = []\n",
    "for i in range(10000000):\n",
    "    v = vmax * random()\n",
    "    p = random()\n",
    "    pv = max_boltz(v)\n",
    "    if p < pv:\n",
    "        distribution.append(v)"
   ]
  },
  {
   "cell_type": "code",
   "execution_count": 29,
   "metadata": {
    "scrolled": true
   },
   "outputs": [
    {
     "data": {
      "image/png": "[encoded data removed]",
      "text/plain": [
       "<matplotlib.figure.Figure at 0x16254ac8>"
      ]
     },
     "metadata": {},
     "output_type": "display_data"
    }
   ],
   "source": [
    "fig = plt.figure(figsize=(12, 9))\n",
    "ax = fig.add_subplot(111)\n",
    "ax.hist(distribution, bins = np.arange(min(distribution), max(distribution)+10, 1))\n",
    "plt.show()"
   ]
  }
 ],
 "metadata": {
  "kernelspec": {
   "display_name": "Python 2",
   "language": "python",
   "name": "python2"
  },
  "language_info": {
   "codemirror_mode": {
    "name": "ipython",
    "version": 2
   },
   "file_extension": ".py",
   "mimetype": "text/x-python",
   "name": "python",
   "nbconvert_exporter": "python",
   "pygments_lexer": "ipython2",
   "version": "2.7.13"
  }
 },
 "nbformat": 4,
 "nbformat_minor": 2
}
